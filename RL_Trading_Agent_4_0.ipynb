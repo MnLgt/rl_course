{
  "cells": [
    {
      "cell_type": "markdown",
      "metadata": {
        "colab_type": "text",
        "id": "view-in-github"
      },
      "source": [
        "<a href=\"https://colab.research.google.com/github/eminshall/Reinforcment-Learning-Agent-for-Stock-Trading-AAPL/blob/main/RL_Trading_Agent_4_0.ipynb\" target=\"_parent\"><img src=\"https://colab.research.google.com/assets/colab-badge.svg\" alt=\"Open In Colab\"/></a>"
      ]
    },
    {
      "cell_type": "code",
      "execution_count": null,
      "metadata": {
        "colab": {
          "base_uri": "https://localhost:8080/"
        },
        "id": "LtW9-iH363T_",
        "outputId": "65d279cc-bf4a-4433-bb75-5bdf777b71c4"
      },
      "outputs": [],
      "source": [
        "!pip install git+https://github.com/DLR-RM/stable-baselines3@feat/gymnasium-support\n",
        "!pip install git+https://github.com/Stable-Baselines-Team/stable-baselines3-contrib@feat/gymnasium-support"
      ]
    },
    {
      "cell_type": "code",
      "execution_count": null,
      "metadata": {
        "colab": {
          "base_uri": "https://localhost:8080/"
        },
        "id": "N4F2LCpewzNV",
        "outputId": "37803551-7f5b-49bd-bb89-988ea3545903"
      },
      "outputs": [],
      "source": [
        "pip install gym-anytrading"
      ]
    },
    {
      "cell_type": "code",
      "execution_count": null,
      "metadata": {
        "id": "gNsVZta4HCJQ"
      },
      "outputs": [],
      "source": [
        "pip install shimmy>=0.2.1"
      ]
    },
    {
      "cell_type": "code",
      "execution_count": null,
      "metadata": {
        "colab": {
          "base_uri": "https://localhost:8080/"
        },
        "id": "Uo3HhFLX67sm",
        "outputId": "e8f312b1-51b0-4093-bbea-bade1329304f"
      },
      "outputs": [],
      "source": [
        "!pip install finta"
      ]
    },
    {
      "cell_type": "code",
      "execution_count": null,
      "metadata": {
        "colab": {
          "base_uri": "https://localhost:8080/"
        },
        "id": "3I8uDHLI67i-",
        "outputId": "362cc570-0227-4d4e-ef6f-59d8a1da7438"
      },
      "outputs": [],
      "source": [
        "!pip install quantstats"
      ]
    },
    {
      "cell_type": "code",
      "execution_count": null,
      "metadata": {
        "id": "UaHV5Q2G7AE0"
      },
      "outputs": [],
      "source": [
        "# Gym stuff\n",
        "import gym\n",
        "import gym_anytrading\n",
        "from gym_anytrading.envs import StocksEnv\n",
        "\n",
        "# Stable baselines - rl stuff\n",
        "from stable_baselines3.common.vec_env import DummyVecEnv\n",
        "from stable_baselines3 import A2C\n",
        "\n",
        "#Quant Finance\n",
        "from finta import TA\n",
        "import quantstats as qs\n",
        "\n",
        "# Processing libraries\n",
        "import os\n",
        "import numpy as np\n",
        "import pandas as pd\n",
        "from matplotlib import pyplot as plt"
      ]
    },
    {
      "cell_type": "code",
      "execution_count": null,
      "metadata": {
        "colab": {
          "base_uri": "https://localhost:8080/"
        },
        "id": "gRMeFYex7Cec",
        "outputId": "82eb111b-03ce-45ea-82d7-99d2e3a1c488"
      },
      "outputs": [],
      "source": [
        "from google.colab import drive\n",
        "drive.mount('/content/drive/')\n",
        "\n",
        "with open('/content/drive/MyDrive/key.txt', 'r') as f:\n",
        "    key = f.readline()"
      ]
    },
    {
      "cell_type": "code",
      "execution_count": null,
      "metadata": {
        "colab": {
          "base_uri": "https://localhost:8080/",
          "height": 198
        },
        "id": "pDIOdtMD9zgu",
        "outputId": "265cb462-efa0-4893-d639-60aafe976d0c"
      },
      "outputs": [],
      "source": [
        "#Download 3 months of data (Alphavantage only provides 1 month per call)\n",
        "month_1 = 'https://www.alphavantage.co/query?function=TIME_SERIES_INTRADAY_EXTENDED&symbol=AAPL&interval=5min&slice=year1month1&apikey={key}&datatype=csv'\n",
        "month_2 = 'https://www.alphavantage.co/query?function=TIME_SERIES_INTRADAY_EXTENDED&symbol=AAPL&interval=5min&slice=year1month2&apikey={key}&datatype=csv'\n",
        "month_3 = 'https://www.alphavantage.co/query?function=TIME_SERIES_INTRADAY_EXTENDED&symbol=AAPL&interval=5min&slice=year1month3&apikey={key}&datatype=csv'\n",
        "month_4 = 'https://www.alphavantage.co/query?function=TIME_SERIES_INTRADAY_EXTENDED&symbol=AAPL&interval=5min&slice=year1month4&apikey={key}&datatype=csv'\n",
        "\n",
        "#Grab the Data as CSV\n",
        "csv_1 = pd.read_csv(month_1)\n",
        "csv_2 = pd.read_csv(month_2)\n",
        "csv_3 = pd.read_csv(month_3)\n",
        "csv_4 = pd.read_csv(month_4)\n",
        "\n",
        "#Put it into a DataFrame\n",
        "data_1 = pd.DataFrame(csv_1)\n",
        "data_2 = pd.DataFrame(csv_2)\n",
        "data_3 = pd.DataFrame(csv_3)\n",
        "data_4 = pd.DataFrame(csv_4)\n",
        "\n",
        "\n",
        "#Append the three months into one Dataframe\n",
        "data = data_1.append([data_2, data_3, data_4])\n",
        "\n",
        "data.head(3)"
      ]
    },
    {
      "cell_type": "code",
      "execution_count": null,
      "metadata": {
        "colab": {
          "base_uri": "https://localhost:8080/"
        },
        "id": "QZfso75UE-WM",
        "outputId": "50abc5c9-7224-46e6-9aaf-c4afce968e33"
      },
      "outputs": [],
      "source": [
        "data.info()"
      ]
    },
    {
      "cell_type": "code",
      "execution_count": null,
      "metadata": {
        "colab": {
          "base_uri": "https://localhost:8080/",
          "height": 237
        },
        "id": "Kz2U30aY7p3U",
        "outputId": "4a6303f7-c743-4d35-cfce-0c03898beb73"
      },
      "outputs": [],
      "source": [
        "data = data.rename(columns = {'open': 'Open', 'high': 'High', 'low': 'Low', 'close': 'Close', 'volume': 'Volume'})\n",
        "\n",
        "data['time'] = pd.to_datetime(data['time'])\n",
        "data.set_index('time', inplace=True)\n",
        "data.sort_values('time', ascending=True, inplace=True)\n",
        "\n",
        "data.head()"
      ]
    },
    {
      "cell_type": "markdown",
      "metadata": {
        "id": "m7Bgcr7S72hp"
      },
      "source": [
        "## Add Custom Indicators"
      ]
    },
    {
      "cell_type": "code",
      "execution_count": null,
      "metadata": {
        "id": "wy0G3h6LN35I"
      },
      "outputs": [],
      "source": [
        "data['return'] = np.log(data['Close'] / data['Close'].shift(1))"
      ]
    },
    {
      "cell_type": "code",
      "execution_count": null,
      "metadata": {
        "id": "TEP6Hu5r75s_"
      },
      "outputs": [],
      "source": [
        "#Create columns for technical indicators & add them to the dataframe\n",
        "data['RSI'] = TA.RSI(data,16)\n",
        "data['SMA'] = TA.SMA(data, 20)\n",
        "data['SMA_L'] = TA.SMA(data, 41)\n",
        "data['OBV'] = TA.OBV(data)\n",
        "data['VWAP'] = TA.VWAP(data)\n",
        "data['EMA'] = TA.EMA(data)\n",
        "data['ATR'] = TA.ATR(data)\n",
        "data.fillna(0, inplace=True)"
      ]
    },
    {
      "cell_type": "code",
      "execution_count": null,
      "metadata": {
        "id": "TAzlP0hcNskJ"
      },
      "outputs": [],
      "source": [
        "#Add momentum, volatitlity, & distance to the data_frame\n",
        "data['momentum'] = data['return'].rolling(5).mean().shift(1)\n",
        "data['volatility'] = data['return'].rolling(20).std().shift(1)\n",
        "data['distance'] = (data['Close'] - data['Close'].rolling(50).mean()).shift(1)"
      ]
    },
    {
      "cell_type": "code",
      "execution_count": null,
      "metadata": {
        "id": "_AEmf5UB_G0E"
      },
      "outputs": [],
      "source": [
        "#Perform a simple linear regression direction prediction\n",
        "lags = 5\n",
        "\n",
        "cols = []\n",
        "for lag in range(1, lags + 1):\n",
        "  col = f'lag_{lag}'\n",
        "  data[col] = data['Close'].shift(lag)\n",
        "  cols.append(col)\n",
        "\n",
        "data.dropna(inplace=True)\n",
        "\n",
        "reg = np.linalg.lstsq(data[cols], data['Close'], rcond=None)[0]\n",
        "data['Prediction'] = np.dot(data[cols], reg)"
      ]
    },
    {
      "cell_type": "code",
      "execution_count": null,
      "metadata": {
        "colab": {
          "base_uri": "https://localhost:8080/",
          "height": 417
        },
        "id": "p0DtK7_I0Omo",
        "outputId": "4ffff072-7e1d-491b-d1d8-34a42e462bfd"
      },
      "outputs": [],
      "source": [
        "data.tail()"
      ]
    },
    {
      "cell_type": "code",
      "execution_count": null,
      "metadata": {
        "id": "Mb6cz3Ow8ND8"
      },
      "outputs": [],
      "source": [
        "#Create a function to properly format data frame to be passed through environment\n",
        "def signals(env):\n",
        "    start = env.frame_bound[0] - env.window_size\n",
        "    end = env.frame_bound[1]\n",
        "    prices = env.df.loc[:,'Close'].to_numpy()[start:end]\n",
        "    signal_features = env.df.loc[:, ['Open','High','Low','Close','Volume','return','momentum','volatility','distance','RSI','OBV','SMA','SMA_L','VWAP','EMA','ATR', 'Prediction']].to_numpy()[start:end]\n",
        "    return prices, signal_features"
      ]
    },
    {
      "cell_type": "code",
      "execution_count": null,
      "metadata": {
        "id": "eLrvVyUt8Ny8"
      },
      "outputs": [],
      "source": [
        "#Replace default data process with custom function from above\n",
        "class MyCustomEnv(StocksEnv):\n",
        "    _process_data = signals\n",
        "    \n",
        "#Initialize an environment setting the window size and train data\n",
        "window_size = 65\n",
        "start_index = window_size\n",
        "end_train_index = round(len(data)*0.70)\n",
        "end_val_index = len(data)\n",
        "\n",
        "env2 = MyCustomEnv(df=data, window_size=window_size, frame_bound=(start_index, end_train_index))"
      ]
    },
    {
      "cell_type": "code",
      "execution_count": null,
      "metadata": {
        "colab": {
          "base_uri": "https://localhost:8080/"
        },
        "id": "VNysS-qE8Sa9",
        "outputId": "2c4d7e33-23b7-4136-fe1b-ffb40fb751cb"
      },
      "outputs": [],
      "source": [
        "#Create a Dummy Vector of our environment\n",
        "env_maker = lambda: env2\n",
        "env = DummyVecEnv([env_maker])"
      ]
    },
    {
      "cell_type": "markdown",
      "metadata": {
        "id": "XceZpJh88T1k"
      },
      "source": [
        "## Train Test"
      ]
    },
    {
      "cell_type": "code",
      "execution_count": null,
      "metadata": {
        "colab": {
          "base_uri": "https://localhost:8080/"
        },
        "id": "krmvJpHp8Y1O",
        "outputId": "516f1adf-9e80-493c-d2d0-081134e4ea6c"
      },
      "outputs": [],
      "source": [
        "#initialize our model and train\n",
        "policy_kwargs = dict(optimizer_class='RMSpropTFLike', optimizer_kwargs=dict(eps=1e-5))\n",
        "actor_critic = A2C('MlpPolicy', env, verbose=1) \n",
        "actor_critic.learn(total_timesteps=500000)"
      ]
    },
    {
      "cell_type": "code",
      "execution_count": null,
      "metadata": {
        "id": "BT7yTe808VJt"
      },
      "outputs": [],
      "source": [
        "#Create a new environment with validation data\n",
        "env = MyCustomEnv(df=data, window_size=window_size, frame_bound=(end_train_index, end_val_index))\n",
        "obs = env.reset()"
      ]
    },
    {
      "cell_type": "code",
      "execution_count": null,
      "metadata": {
        "colab": {
          "base_uri": "https://localhost:8080/"
        },
        "id": "wm4KaWqT8p-b",
        "outputId": "a57a95c1-9eac-4a67-95a0-b23be84030b8"
      },
      "outputs": [],
      "source": [
        "while True: \n",
        "    obs = obs[np.newaxis, ...]\n",
        "    action, _states = actor_critic.predict(obs)\n",
        "    obs, rewards, done, info = env.step(action)\n",
        "    if done:\n",
        "        print(\"info\", info)\n",
        "        break"
      ]
    },
    {
      "cell_type": "code",
      "execution_count": null,
      "metadata": {
        "colab": {
          "base_uri": "https://localhost:8080/",
          "height": 601
        },
        "id": "QKJ_qY9Q8tz2",
        "outputId": "3c78faef-14a1-4276-d3b0-ea82e2bf8749"
      },
      "outputs": [],
      "source": [
        "#Plot the results\n",
        "plt.figure(figsize=(16,9))\n",
        "env.render_all()\n",
        "plt.show()"
      ]
    },
    {
      "cell_type": "code",
      "execution_count": null,
      "metadata": {
        "colab": {
          "base_uri": "https://localhost:8080/",
          "height": 1000
        },
        "id": "pTHRELSpNKNC",
        "outputId": "22e78e5c-859e-4f94-8487-f97a984bf611"
      },
      "outputs": [],
      "source": [
        "qs.extend_pandas()\n",
        "\n",
        "net_worth = pd.Series(env.history['total_profit'], index=data.index[end_train_index+1:end_val_index])\n",
        "returns = net_worth.pct_change().iloc[1:]\n",
        "\n",
        "qs.reports.full(returns)"
      ]
    }
  ],
  "metadata": {
    "accelerator": "GPU",
    "colab": {
      "authorship_tag": "ABX9TyMmEfzn2LrEOKw9o6tfihhP",
      "include_colab_link": true,
      "provenance": []
    },
    "gpuClass": "standard",
    "kernelspec": {
      "display_name": "Python 3",
      "name": "python3"
    },
    "language_info": {
      "name": "python"
    }
  },
  "nbformat": 4,
  "nbformat_minor": 0
}
